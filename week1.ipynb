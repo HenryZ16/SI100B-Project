{
 "cells": [
  {
   "cell_type": "markdown",
   "metadata": {},
   "source": [
    "# SI100B Python Project (Fall, 2022): \n",
    "# Social Exploration Based on Data Processing - Week 1: Warm-up, Finding & Analyzing Data (10 points)\n",
    "*******\n",
    "\n",
    "Update: `2022-11-30 01:33`"
   ]
  },
  {
   "cell_type": "markdown",
   "metadata": {},
   "source": [
    "# Introduction\n",
    "\n",
    "Ours is an age surrounded by indices. Intricate and varied data are appearing and disappearing every day - or rather, are simply being overwritten by new data. In this context, misinterpretation of data is growing by leaps and bounds. Therefore, mastering data literacy is essential: This requires the ability to not only carry out statistical analysis on real world problems, but also to understand and critique any conclusion drawn by others on the basis of statistics.\n",
    "\n",
    "Completing this project may enable you to take a clearer view of all kinds of data, and of the world."
   ]
  },
  {
   "cell_type": "markdown",
   "metadata": {},
   "source": [
    "# First of All\n",
    "\n",
    "Imagine your former headteacher suddenly approaching you on WeChat: \"Hey, you are a polytechnic student right? Could you help me analyse our school's student pool this year?\"\n",
    "\n",
    "While in reality your class teacher probably wouldn't ask such a unreasonable request of you, and your alma mater would have a dedicated data analyst (probably), if you were actually asked this question, your first reaction would probably be - **\"How can I do it since you haven't mentioned any details? \"**\n",
    "\n",
    "Yes, this is the situation you are most likely to find yourself in when faced with social reality. There are no definite requirements, just a living, breathing world out there. What to do?\n",
    "\n",
    "We need to dismantle the problem. Now, since we need to use data to study social problems, we should work around the problem and the data.\n",
    "\n",
    "Once we have a problem, the first step we have to take is **data collection**. The process of data collection is painful, so don't expect us to take care of it for you.\n",
    "\n",
    "After sending out various questionnaires (and red packets) in various large groups, Qzone, friends and other places, and going through various websites with publicly available data, you finally have a big pile of raw data. Then the second step is **data cleaning**. In order to organise the data into something you can use and get rid of the invalid content in the data, you will probably need a few methods.\n",
    "\n",
    "Now you have structured data. It's time to face our problem head on - you need to turn this data into an estimated quantity by **data analysis**. The estimator actually infers to a function of a random sample of a population used to estimate some parameter of the whole population. A very common estimator is actually the mean value.\n",
    "\n",
    "Finally, when you already have the estimated quantity, it is time to answer the question. You need to tell the world your answer by **interpreting the data**.\n",
    "\n",
    "Done. It's that simple. In this week, we'll cover how to do data collection, along with a bit of basic data manipulation."
   ]
  },
  {
   "cell_type": "markdown",
   "metadata": {},
   "source": [
    "# Perception of Data\n",
    "\n",
    "## Clarifying the Definition of Data\n",
    "\n",
    "It may come as a surprise to you that the official definition of unemployment in the UK has been adjusted at least 31 times between 1979 and 1996. With such a \"household\" concept, you should already feel the importance of a clear definition.\n",
    "\n",
    "Therefore, the first step in data analysis is to **clear definitions**. We have prepared a small exercise for you to do this.\n",
    "\n",
    "## Common Mistakes in Understanding Data\n",
    "\n",
    "In your life, you may come across all kinds of interpretations of data. They all have one thing in common: they try to make you believe their interpretation. Yet are they really the right interpretations?\n",
    "\n",
    "Here, we give you an extra-curricular reading that we hope will help you to look at the interpretation of data more carefully."
   ]
  },
  {
   "cell_type": "markdown",
   "metadata": {},
   "source": [
    "# Ways of Getting Data\n",
    "\n",
    "As mentioned above, there are actually many ways to get data, and this project does not place any restrictions on your methods. But because there are so many ways, it is not a simple matter to find satisfactory data. Therefore, you may need to start preparing now - even though you may not know what you are going to study yet. At the same time, if the data you find is not as perfect as you had in mind, you may need to make trade-offs for that as well.\n",
    "\n",
    "This project will help you by giving you some access to data by type of data, but it is only a reference.\n",
    "\n",
    "## Macro Data\n",
    "\n",
    "Also known as panel data, i.e. data with two separate dimensions, time series and cross-sectional. A more general explanation is that time is the x-axis and the different variables are the y-axis.\n",
    "\n",
    "- 国家统计局 (http://data.stats.gov.cn)\n",
    "- World Development Indicators\n",
    "(https://databank.worldbank.org/reports.aspx?source=world-development-indicators)\n",
    "- Penn World Tables (https://fred.stlouisfed.org/categories/33402)\n",
    "- 金融数据：东方财富 (http://choice.eastmoney.com/SchoolApply)\n",
    "\n",
    "## Regional Data\n",
    "\n",
    "In general, data at this administrative level can be viewed through the yearbook of the higher level (more convenient) and its own yearbook (more detailed).\n",
    "\n",
    "- China Economic and Social Big Data Research Platform (https://data.cnki.net/)\n",
    "\n",
    "## Household/Individual Data\n",
    "\n",
    "- IPUMS International (https://international.ipums.org/international/index.shtml)\n",
    "- China Household Income Project (http://www.ciidbnu.org/chip/index.asp)\n",
    "- 中国教育追踪调查 (http://ceps.ruc.edu.cn/)\n",
    "- 中国综合社会调查 (http://cgss.ruc.edu.cn/)\n",
    "\n",
    "## Crawlers\n",
    "\n",
    "If you are not happy with the data on an existing data site - which is actually quite normal - then sometimes you will also need to get the data yourself.\n",
    "\n",
    "You should have learnt the basic use of crawlers in class, and now you can try to crawl some data yourself. For the raw data that you crawl, you can learn something about what to do with it in the next lessons.\n",
    "\n",
    "## Questionnaires\n",
    "\n",
    "Of course, if your question requires individual survey data, it is perfectly fine to design a questionnaire yourself. You can think about it now (you can use your ability of Design Thinking)!\n",
    "\n",
    "In professional field, the questionnaires are often extremely complex. It may take you a while to learn how to read a professional questionnaire.\n",
    "\n",
    "## Other\n",
    "\n",
    "(Don't let the fact that it's \"Other\" stop you from reading it!)\n",
    "\n",
    "- https://www.zhihu.com/question/20179699\n",
    "- https://www.kaggle.com/datasets\n",
    "\n",
    "## Tips for Using These Websites\n",
    "\n",
    "The sites have different interfaces, so it can be a bit overwhelming to navigate through them one by one. You can pick the ones you are interested in first to see how the site is used, and also if the site requires you to perform additional actions to grant you access, remember to do this earlier."
   ]
  },
  {
   "cell_type": "markdown",
   "metadata": {},
   "source": [
    "# Data is Not Everything\n",
    "\n",
    "You may have been a little dazzled by the above. Don't worry, calm down, it's only the first week. If you can't calm down, we can *throw some cold water* on you:\n",
    "\n",
    "Data means observable and measurable. But is everything in this world really observable and measurable?\n",
    "\n",
    "Quite the opposite. There have been numerous critiques of this data grasp of everything, but this is not within the scope of our project (you will probably see them more often in philosophy classes).\n",
    "\n",
    "What you must be aware of, however, is that quite a lot of it cannot be represented by data. Take for example this question: \"How happy are you?\" The complexity and accuracy of quantifying it is quite questionable.\n",
    "\n",
    "Therefore, think rationally about what information is actually contained in the data.\n",
    "\n",
    "So, that's all for week one. It's time for practice and hopefully you've started to get some idea of the challenges you'll be facing."
   ]
  },
  {
   "cell_type": "markdown",
   "metadata": {},
   "source": [
    "# Exercises (7 points)\n",
    "\n",
    "## 0. Logistics (1 points)\n",
    "\n",
    "Now it is time to estimate how many trees there are in the world. Q: What is a tree? *(Hint: How should you qualify this to make your count easier?)*"
   ]
  },
  {
   "cell_type": "markdown",
   "metadata": {},
   "source": [
    "## 1. Finding Data Online & Basic Analysis (3 points)\n",
    "\n",
    "### Action\n",
    "\n",
    "In *World Development Indicators*, find and visualize the gross enrollment ratio of tertiary education in China and South Korea from 2010 to 2019. Briefly analyze the content.\n",
    "\n",
    "Feel free to modify the *Layout*.\n",
    "\n",
    "### Questions (The Answers Are NOT Unique)\n",
    "- How do you store the data? In which format?\n",
    "- How do you read the data?\n",
    "- Which kind of plot do you use?\n",
    "- What is the definition of gross enrollment ratio? How could you explain some ‘strange’ phenomenon in the data?\n",
    "- What is your analysis?\n",
    "\n",
    "### Code"
   ]
  },
  {
   "cell_type": "code",
   "execution_count": 1,
   "metadata": {},
   "outputs": [],
   "source": [
    "# Your code here\n# test\n"
   ]
  },
  {
   "cell_type": "markdown",
   "metadata": {},
   "source": [
    "## 2. Collecting Data by Sampling & Calculate the Confidence Interval (3 points)\n",
    "\n",
    "### Background\n",
    "\n",
    "Sometimes, it is difficult to collect all the data (*population*). But we can collect a few of them (*samples*), which is called sampling, and infer the population properties (take the *population average* as an example in this part). To what extent is our inference accurate? *Confidence interval* is designed to measure this.\n",
    "\n",
    "Given the *random variable* $X$. It represents the unknown *population average*. Here we define the $\\alpha$ *confidence interval* of $X$ is $(\\mu-A,\\mu+A)$, where\n",
    "- $\\mu$ is the *sample average*\n",
    "- The probability that $(\\mu-A<$ *population average* $<\\mu+A)$ is $\\alpha$\n",
    "\n",
    "$X$ follows the *student-t distribution*. See [the doc of scipy.stats.t](https://docs.scipy.org/doc/scipy/reference/generated/scipy.stats.t.html). \n",
    "- `df` is the *degrees of freedom*. `df` = $n-1$, where $n$ is the number of samples\n",
    "- `loc` = the *sample average*\n",
    "- `scale` = the *sample standard deviation* $\\times \\frac{1}{\\sqrt n}$\n",
    "\n",
    "If you are unclear about the concepts above, search by your self. Learning how to search on the Internet is an essential skill for programming.\n",
    "\n",
    "### Action\n",
    "\n",
    "Collect data as samples by yourself (e.g. your and your friends' scores of a certain test). Calculate the $95\\%$ confidence interval of the population average, and `print` it in format `(l, r)`.\n",
    "\n",
    "### Questions (The Answers Are NOT Unique)\n",
    "\n",
    "- Which function do you use to calculate the *sample average* and *sample standard deviation*? Explain the available parameters.\n",
    "- Which function do you use to calculate the *confidence interval*? Explain the available parameters.\n",
    "- Add more samples and recalculate the confidence interval. What do you find?\n",
    "- As $n$ goes larger, $X$ is getting closer to *normal distribution*. See [the doc of scipy.stats.norm](https://docs.scipy.org/doc/scipy/reference/generated/scipy.stats.norm.html). How large is n when we can approximately calculate the *confidence interval* by *normal distribution*? Try by yourself.\n",
    "\n",
    "### Code"
   ]
  },
  {
   "cell_type": "code",
   "execution_count": 2,
   "metadata": {},
   "outputs": [],
   "source": [
    "# Your code here\n"
   ]
  },
  {
   "cell_type": "markdown",
   "metadata": {},
   "source": [
    "# Task (3 points)\n",
    "\n",
    "Finally, you have reached the crucial end of the course: you need to decide on a topic. This selection will be with you for the next few weeks.\n",
    "\n",
    "Of course, you have not yet been exposed to specific data processing and may not yet have a good understanding of the detailed objectives. But that's okay - for now you just need to decide on a preliminary topic.\n",
    "\n",
    "In fact, there are no restrictions on your choice of topic - as long as it is a social issue. It doesn't need to be academically novel enough, niche enough or sensational enough ...... None of that is required. You just need to be able to fully embody the four steps we set out at the beginning.\n",
    "\n",
    "Of course, to make sure you're not drawing a blank - you'll also need to submit an expectation of what we'll do with the data. That is, you can start by brainstorming what data you need and what directions you want to explore. These can all be different from what you end up with, and we'll give you a review of your submission to help you get a better start on your plan.\n",
    "\n",
    "## If You Still Don't Have Any Idea...\n",
    "\n",
    "We have provided some ideas here for your reference:\n",
    "\n",
    "- Epidemic: The biggest topic of conversation this time of year has undoubtedly been the COVID-19 epidemic. The epidemic has changed our lives completely throughout the whole year, so you must have a lot of questions buried in your mind too. But for now, let's put aside all that natural science talk and look at the real society underneath the epidemic: who is suffering from medical overload; who has lost their lifeline to the economy because of silence; who has been forced to cut themselves off from their familiar lives and people because of isolation; or - although this is the world we can't see of the world - how many people have been saved by the sealing of the city by the dead? Or even, which side are you on, coexistence or zeroing *(both ideal or realistic are OK)*? Don't be in a hurry to make your choice, because your choice is often not a crude dichotomy. Use the data to defend your answer. **But please note that at no time should you abandon your empathy for people as individuals - they are more than data.**\n",
    "\n",
    "- Marital relationships: The marital relationship is probably one of the most important individual relationships in human society. There are many relationships that affect marriage, so there are many areas that can be investigated. Let's take the marriage and divorce rates as an example. Is there anything hidden behind these two seemingly common concepts of marriage and divorce rates? Are you really clear on their concepts? And are they a microcosm of social development? You can take data from one geographical area, from several geographical areas, or even from the whole country to explore. You could even pick one of the marriage and divorce rates to find your answer - perhaps, they are not as simple as you think.\n",
    "\n",
    "- The psychological status of children: You have probably heard of surveys on the psychological status of children. The psychological situation of children is also quite important for social development, so you could try to explore some of the issues in the existing situation. This is a complex topic, so you should pick out some very detailed factors: the family's financial situation, the parents' situation, or the geographical environment? In short, you may need to explore different lines of research to give your answers.\n",
    "\n",
    "If you choose to use the ideas we provide, don't worry. Our assessment criteria are more geared towards the depth of the research you conduct rather than the novelty of the topic."
   ]
  },
  {
   "cell_type": "markdown",
   "metadata": {},
   "source": [
    "# Reference\n",
    "\n",
    "ECON1013, Data and Society\n",
    "\n",
    "MATH1212, Probability and Statistics"
   ]
  }
 ],
 "metadata": {
  "interpreter": {
   "hash": "44346a7784af505ec8abd5e49b4ac2fbf9dc5f7b8a1ed20ef44adf0ac921c98b"
  },
  "kernelspec": {
   "display_name": "Python 3 (ipykernel)",
   "language": "python",
   "name": "python3"
  },
  "language_info": {
   "codemirror_mode": {
    "name": "ipython",
    "version": 3
   },
   "file_extension": ".py",
   "mimetype": "text/x-python",
   "name": "python",
   "nbconvert_exporter": "python",
   "pygments_lexer": "ipython3",
   "version": "3.9.0"
  }
 },
 "nbformat": 4,
 "nbformat_minor": 2
}
